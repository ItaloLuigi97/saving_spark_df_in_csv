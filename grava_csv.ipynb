{
 "cells": [
  {
   "cell_type": "code",
   "execution_count": 0,
   "metadata": {
    "application/vnd.databricks.v1+cell": {
     "cellMetadata": {},
     "inputWidgets": {},
     "nuid": "55f1f9ac-4059-49bd-b41a-056c80745849",
     "showTitle": true,
     "title": "Function"
    }
   },
   "outputs": [],
   "source": [
    "def grava_csv(df, path_to_write, nome_arquivo, sep):\n",
    "  \"\"\"\n",
    "  Função para gravar em arquivo CSV único.\n",
    "  ---\n",
    "  (EN)Function to save data in only one CSV file.\n",
    "  ---\n",
    "  Entrada (Input):\n",
    "   df - dataframe spark.\n",
    "   path_to_write - path onde deve ser gravado o arquivo .csv.\n",
    "   nome_arquivo - nome do arquivo que deve ser gravado (com extensão!).\n",
    "   \n",
    "  Saída (Output)..:\n",
    "   return_code - código de returno da chamada.\n",
    "     |-> 0 - Processamento com sucesso.\n",
    "     |-> 1 - Path não informado.\n",
    "     |-> 2 - Nome do arquivo a gravar nao informado.\n",
    "     |-> 3 - Separador de campos não informado.\n",
    "   msg - mensagem informativa.\n",
    "  ----\n",
    "  Example chamada (Example Call):\n",
    "  grava_csv(df, '/mnt/files', 'my_output.csv', ';')\n",
    "  \"\"\"\n",
    "  try:\n",
    "    #path_to_write = path_to_write\n",
    "    #nome_arquivo = nome_arquivo\n",
    "    #sep = sep\n",
    "    if not path_to_write:\n",
    "      msg = '#E# Path nao informado.'\n",
    "      return_code = 1\n",
    "    elif not nome_arquivo:\n",
    "      msg = '#E# Nome do arquivo a gravar nao informado.'\n",
    "      return_code = 2\n",
    "    elif not sep:\n",
    "      msg = '#E# Separador de campos não informado.'\n",
    "      return_code = 3\n",
    "    else:\n",
    "      var_nome_arquivo = nome_arquivo\n",
    "      work_dir = (path_to_write + '/tmp/' + var_nome_arquivo)\n",
    "      dest_file = (path_to_write + '/' + var_nome_arquivo )\n",
    "      \n",
    "      df.coalesce(1)\\\n",
    "          .write.format(\"csv\")\\\n",
    "          .mode(\"overwrite\")\\\n",
    "          .option(\"header\", \"true\")\\\n",
    "          .options(delimiter='{sep}'.format(sep = sep)) \\\n",
    "          .save(\"{path_save}\".format(path_save = work_dir) ,encoding='utf-8')\n",
    "\n",
    " \n",
    "\n",
    "      files = dbutils.fs.ls(work_dir)\n",
    "      csv_file = [x.path for x in files if x.path.endswith(\".csv\")][0]\n",
    "      # move o arquivo unico para o dest_file\n",
    "      dbutils.fs.mv(csv_file, dest_file)\n",
    "      # remove o diretorio de trabalho\n",
    "      dbutils.fs.rm(work_dir, recurse = True)\n",
    "      msg = 'Processamento com sucesso.'\n",
    "      return_code = 0\n",
    "  except:\n",
    "    msg = '#E# Ocorreu um erro inesperado.'\n",
    "    return_code = 9\n",
    "  finally:\n",
    "    return return_code, msg"
   ]
  },
  {
   "cell_type": "code",
   "execution_count": 0,
   "metadata": {
    "application/vnd.databricks.v1+cell": {
     "cellMetadata": {},
     "inputWidgets": {},
     "nuid": "c3b98b67-646c-430c-bdcd-8750e60b0ade",
     "showTitle": true,
     "title": "How to use!"
    }
   },
   "outputs": [],
   "source": [
    "env = 'prd'\n",
    "grava_csv(base_broker,'/mnt/{0}_amsbradls2a4a/inbound/project/broker-30/metas-informacoes/metas-curva-diaria/stage/'.format(env),'CURVA_DIARIA_BROKER_3_0.csv',';')"
   ]
  }
 ],
 "metadata": {
  "application/vnd.databricks.v1+notebook": {
   "dashboards": [],
   "environmentMetadata": {
    "base_environment": "",
    "client": "1"
   },
   "language": "python",
   "notebookMetadata": {
    "pythonIndentUnit": 4
   },
   "notebookName": "grava_csv",
   "widgets": {}
  }
 },
 "nbformat": 4,
 "nbformat_minor": 0
}
